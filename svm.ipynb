{
 "cells": [
  {
   "cell_type": "code",
   "execution_count": 1,
   "metadata": {},
   "outputs": [],
   "source": [
    "import tensorflow as tf\n",
    "import numpy as np\n",
    "np.random.seed(0)\n",
    "\n",
    "import matplotlib.pyplot as plt"
   ]
  },
  {
   "cell_type": "code",
   "execution_count": 2,
   "metadata": {},
   "outputs": [],
   "source": [
    "num_predictors = 2\n",
    "num_samples = 50\n",
    "\n",
    "labels = np.zeros((num_samples), np.float32)\n",
    "inputs = np.zeros((num_samples, num_predictors), np.float32)\n",
    "\n",
    "max_coord = 10\n",
    "\n",
    "for i in range(num_samples):\n",
    "    x = np.random.randint(-max_coord, max_coord+1, (2))\n",
    "    y = 1 if np.prod(x) >= 0 else -1\n",
    "    inputs[i] = x\n",
    "    labels[i] = y"
   ]
  },
  {
   "cell_type": "code",
   "execution_count": 3,
   "metadata": {},
   "outputs": [
    {
     "data": {
      "image/png": "[encoded data removed]",
      "text/plain": [
       "<Figure size 432x288 with 1 Axes>"
      ]
     },
     "metadata": {
      "needs_background": "light"
     },
     "output_type": "display_data"
    }
   ],
   "source": [
    "plt.scatter(inputs[:, 0], inputs[:, 1], c= labels)\n",
    "plt.show()"
   ]
  },
  {
   "cell_type": "code",
   "execution_count": 34,
   "metadata": {},
   "outputs": [],
   "source": [
    "def rbf_kernel(a, b, gamma=0.1, norm_func=tf.norm):\n",
    "    return gamma * norm_func(a-b)**2"
   ]
  },
  {
   "cell_type": "code",
   "execution_count": 66,
   "metadata": {},
   "outputs": [],
   "source": [
    "tf.reset_default_graph()\n",
    "num_training = 30\n",
    "train_inputs = inputs[:num_training]\n",
    "train_labels = labels[:num_training]\n",
    "\n",
    "kernel_matrix = np.zeros((num_training, num_training), np.float32)\n",
    "for i in range(num_training):\n",
    "    for j in range(num_training):\n",
    "        kernel_matrix[i, j] = rbf_kernel(train_inputs[i], train_inputs[j], norm_func=np.linalg.norm)\n",
    "\n",
    "\n",
    "pl_infer = tf.placeholder(tf.float32, [num_predictors])\n",
    "\n",
    "weight = tf.get_variable(\"weight\", [num_training])\n",
    "bias = 0\n",
    "\n",
    "decision_func = tf.math.sign( bias + tf.reduce_sum(\n",
    "        weight * tf.map_fn(\n",
    "                            lambda sample: rbf_kernel(pl_infer, sample),\n",
    "                            train_inputs\n",
    "        )\n",
    "))\n",
    "\n",
    "\n",
    "\n"
   ]
  },
  {
   "cell_type": "markdown",
   "metadata": {},
   "source": [
    "## Objective based on Dual Formulation (something I don't  yet understand)"
   ]
  },
  {
   "cell_type": "code",
   "execution_count": 133,
   "metadata": {},
   "outputs": [],
   "source": [
    "penalty = 100000\n",
    "C = 10000000\n",
    "label_prod = weight * train_labels\n",
    "\n",
    "objective = (1/2)*tf.tensordot( tf.tensordot(weight, kernel_matrix, axes=1), weight, axes=1)\n",
    "objective -= tf.reduce_sum(label_prod)\n",
    "\n",
    "#Implement constraints by using a penalty for if the constraints are violated\n",
    "\n",
    "#Weights should sum to 0 under the constraints\n",
    "weight_sum = tf.reduce_sum(weight)\n",
    "objective += penalty * tf.math.abs(weight_sum)\n",
    "\n",
    "#Must have 0 <= label_prod <= C\n",
    "c_violation = tf.reduce_sum( tf.nn.relu(label_prod - C) + tf.nn.relu(-label_prod) )\n",
    "objective += penalty * c_violation\n",
    "\n",
    "train_op = tf.train.AdamOptimizer().minimize(objective)"
   ]
  },
  {
   "cell_type": "code",
   "execution_count": 143,
   "metadata": {},
   "outputs": [
    {
     "name": "stdout",
     "output_type": "stream",
     "text": [
      "loss = -2.7905989\n",
      "alpha_sum = -0.0016950071 , c_viol = 0.0\n",
      "train_accuracy = 0.3333333333333333\n"
     ]
    }
   ],
   "source": [
    "loss = float(\"inf\")\n",
    "with tf.Session() as sess:\n",
    "    sess.run(tf.global_variables_initializer())\n",
    "    while loss >= 5:\n",
    "        [loss, _] = sess.run([objective, train_op])\n",
    "    print(\"loss =\", loss)\n",
    "    [alpha_sum, c_viol] = sess.run([weight_sum, c_violation])\n",
    "    print(\"alpha_sum =\", alpha_sum, \", c_viol =\", c_viol)\n",
    "    \n",
    "    train_accuracy = 0\n",
    "    for i in range(len(train_inputs)):\n",
    "        x = train_inputs[i]\n",
    "        y = train_labels[i]\n",
    "        prediction = sess.run(decision_func, {pl_infer: x})\n",
    "        if y == prediction: train_accuracy += 1\n",
    "        #print(prediction, \"vs.\", y)\n",
    "    train_accuracy /= len(train_inputs)\n",
    "    print(\"train_accuracy =\", train_accuracy)"
   ]
  },
  {
   "cell_type": "code",
   "execution_count": null,
   "metadata": {},
   "outputs": [],
   "source": []
  },
  {
   "cell_type": "code",
   "execution_count": null,
   "metadata": {},
   "outputs": [],
   "source": []
  },
  {
   "cell_type": "code",
   "execution_count": null,
   "metadata": {},
   "outputs": [],
   "source": []
  }
 ],
 "metadata": {
  "kernelspec": {
   "display_name": "Python 3",
   "language": "python",
   "name": "python3"
  },
  "language_info": {
   "codemirror_mode": {
    "name": "ipython",
    "version": 3
   },
   "file_extension": ".py",
   "mimetype": "text/x-python",
   "name": "python",
   "nbconvert_exporter": "python",
   "pygments_lexer": "ipython3",
   "version": "3.6.7"
  }
 },
 "nbformat": 4,
 "nbformat_minor": 2
}
